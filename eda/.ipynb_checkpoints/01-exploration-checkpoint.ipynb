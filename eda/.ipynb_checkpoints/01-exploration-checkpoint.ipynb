{
 "cells": [
  {
   "cell_type": "code",
   "execution_count": 1,
   "metadata": {
    "collapsed": true
   },
   "outputs": [],
   "source": [
    "import pandas as pd\n",
    "import geopandas as gpd\n",
    "import matplotlib.pyplot as plt\n",
    "import os\n",
    "\n",
    "% matplotlib inline"
   ]
  },
  {
   "cell_type": "markdown",
   "metadata": {},
   "source": [
    "# Read Data"
   ]
  },
  {
   "cell_type": "code",
   "execution_count": 6,
   "metadata": {
    "collapsed": false
   },
   "outputs": [],
   "source": [
    "def read_shapefile(path, fname):\n",
    "    return gpd.read_file(os.path.join(path, fname))\n",
    "\n",
    "# Data specific to aleppo damage dataset\n",
    "aleppo_path = os.path.join(\"..\", \"data\", \"syria_damage_aleppo\")\n",
    "neighborhoods = read_shapefile(aleppo_path, \"Neighborhoods.shp\")\n",
    "cityborder = read_shapefile(aleppo_path, \"CityBorder.shp\")\n",
    "dmg_sites = read_shapefile(aleppo_path, \"Damage_sites_Update3_Aleppo_20150426.shp\")\n",
    "cont_perc_dmg = read_shapefile(aleppo_path, \"Aleppo_Continuous_PercentDamage.shp\")\n",
    "neigh_perc_dmg = read_shapefile(aleppo_path, \"Aleppo_Neighborhood_PercentDamage.shp\")\n",
    "\n",
    "# General Syria boundary data\n",
    "admin_boundary_path = os.path.join(\"..\", \"data\", \"syria_admin_boundaries\")\n",
    "boundaries = read_shapefile(admin_boundary_path, \"SYR_adm1.shp\")"
   ]
  },
  {
   "cell_type": "code",
   "execution_count": 5,
   "metadata": {
    "collapsed": false
   },
   "outputs": [
    {
     "data": {
      "text/html": [
       "<div>\n",
       "<table border=\"1\" class=\"dataframe\">\n",
       "  <thead>\n",
       "    <tr style=\"text-align: right;\">\n",
       "      <th></th>\n",
       "      <th>Id</th>\n",
       "      <th>OBJECTID</th>\n",
       "      <th>Shape_Area</th>\n",
       "      <th>Shape_Leng</th>\n",
       "      <th>geometry</th>\n",
       "      <th>gridcode</th>\n",
       "    </tr>\n",
       "  </thead>\n",
       "  <tbody>\n",
       "    <tr>\n",
       "      <th>0</th>\n",
       "      <td>1</td>\n",
       "      <td>1</td>\n",
       "      <td>2.006787e-08</td>\n",
       "      <td>0.000626</td>\n",
       "      <td>POLYGON ((37.15666601500004 36.29590355300007,...</td>\n",
       "      <td>1</td>\n",
       "    </tr>\n",
       "    <tr>\n",
       "      <th>1</th>\n",
       "      <td>2</td>\n",
       "      <td>2</td>\n",
       "      <td>1.003388e-08</td>\n",
       "      <td>0.000403</td>\n",
       "      <td>POLYGON ((37.15677732800009 36.29590527000005,...</td>\n",
       "      <td>2</td>\n",
       "    </tr>\n",
       "    <tr>\n",
       "      <th>2</th>\n",
       "      <td>3</td>\n",
       "      <td>3</td>\n",
       "      <td>2.006786e-08</td>\n",
       "      <td>0.000626</td>\n",
       "      <td>POLYGON ((37.15699995500006 36.29590870200008,...</td>\n",
       "      <td>1</td>\n",
       "    </tr>\n",
       "    <tr>\n",
       "      <th>3</th>\n",
       "      <td>4</td>\n",
       "      <td>4</td>\n",
       "      <td>1.003383e-08</td>\n",
       "      <td>0.000403</td>\n",
       "      <td>POLYGON ((37.15633419500006 36.29580829400004,...</td>\n",
       "      <td>2</td>\n",
       "    </tr>\n",
       "    <tr>\n",
       "      <th>4</th>\n",
       "      <td>5</td>\n",
       "      <td>5</td>\n",
       "      <td>1.003392e-08</td>\n",
       "      <td>0.000403</td>\n",
       "      <td>POLYGON ((37.15644550900004 36.29581001100007,...</td>\n",
       "      <td>4</td>\n",
       "    </tr>\n",
       "  </tbody>\n",
       "</table>\n",
       "</div>"
      ],
      "text/plain": [
       "   Id  OBJECTID    Shape_Area  Shape_Leng  \\\n",
       "0   1         1  2.006787e-08    0.000626   \n",
       "1   2         2  1.003388e-08    0.000403   \n",
       "2   3         3  2.006786e-08    0.000626   \n",
       "3   4         4  1.003383e-08    0.000403   \n",
       "4   5         5  1.003392e-08    0.000403   \n",
       "\n",
       "                                            geometry  gridcode  \n",
       "0  POLYGON ((37.15666601500004 36.29590355300007,...         1  \n",
       "1  POLYGON ((37.15677732800009 36.29590527000005,...         2  \n",
       "2  POLYGON ((37.15699995500006 36.29590870200008,...         1  \n",
       "3  POLYGON ((37.15633419500006 36.29580829400004,...         2  \n",
       "4  POLYGON ((37.15644550900004 36.29581001100007,...         4  "
      ]
     },
     "execution_count": 5,
     "metadata": {},
     "output_type": "execute_result"
    }
   ],
   "source": [
    "percent_damage.head()"
   ]
  },
  {
   "cell_type": "code",
   "execution_count": null,
   "metadata": {
    "collapsed": true
   },
   "outputs": [],
   "source": [
    "percent_damage.plot()"
   ]
  },
  {
   "cell_type": "code",
   "execution_count": null,
   "metadata": {
    "collapsed": false
   },
   "outputs": [],
   "source": [
    "damage.head()"
   ]
  },
  {
   "cell_type": "code",
   "execution_count": null,
   "metadata": {
    "collapsed": false
   },
   "outputs": [],
   "source": [
    "damage.columns"
   ]
  },
  {
   "cell_type": "code",
   "execution_count": null,
   "metadata": {
    "collapsed": false
   },
   "outputs": [],
   "source": [
    "damage.SiteID.value_counts()"
   ]
  },
  {
   "cell_type": "markdown",
   "metadata": {},
   "source": [
    "# Contextualize Data\n",
    "\n",
    "Now we want to situate ourselves so that we can identify where in Syria we are focusing"
   ]
  },
  {
   "cell_type": "code",
   "execution_count": null,
   "metadata": {
    "collapsed": false
   },
   "outputs": [],
   "source": [
    "base = boundaries.plot(color=\"white\", linewidth=0.5)\n",
    "aleppo = boundaries[boundaries.NAME_1 == \"Aleppo\"]\n",
    "aleppo.plot(ax=base, color=\"orange\", linewidth=0);"
   ]
  },
  {
   "cell_type": "markdown",
   "metadata": {},
   "source": [
    "### Zooming into\n",
    "\n",
    "the province of Aleppo, we want to see the distribution of buildings that have been damaged."
   ]
  },
  {
   "cell_type": "code",
   "execution_count": null,
   "metadata": {
    "collapsed": false
   },
   "outputs": [],
   "source": [
    "aleppo.plot(color=\"white\", linewidth=0.5);"
   ]
  },
  {
   "cell_type": "code",
   "execution_count": null,
   "metadata": {
    "collapsed": false
   },
   "outputs": [],
   "source": [
    "base = boundaries.plot(color=\"white\", linewidth=0.5);\n",
    "neighborhoods.plot(ax=base, color=\"blue\");"
   ]
  },
  {
   "cell_type": "code",
   "execution_count": null,
   "metadata": {
    "collapsed": false
   },
   "outputs": [],
   "source": [
    "neighborhoods.head()"
   ]
  },
  {
   "cell_type": "code",
   "execution_count": null,
   "metadata": {
    "collapsed": false
   },
   "outputs": [],
   "source": [
    "cityborder[cityborder.Name == \"Aleppo\"].plot()"
   ]
  },
  {
   "cell_type": "code",
   "execution_count": null,
   "metadata": {
    "collapsed": false
   },
   "outputs": [],
   "source": [
    "# plot the first two neighborhoods,\n",
    "# Dar'a al-Balad and Al-Manshiyah\n",
    "neighborhoods.iloc[:2].plot()"
   ]
  }
 ],
 "metadata": {
  "kernelspec": {
   "display_name": "syria-project",
   "language": "python",
   "name": "syria-project"
  },
  "language_info": {
   "codemirror_mode": {
    "name": "ipython",
    "version": 2
   },
   "file_extension": ".py",
   "mimetype": "text/x-python",
   "name": "python",
   "nbconvert_exporter": "python",
   "pygments_lexer": "ipython2",
   "version": "2.7.11"
  }
 },
 "nbformat": 4,
 "nbformat_minor": 2
}
